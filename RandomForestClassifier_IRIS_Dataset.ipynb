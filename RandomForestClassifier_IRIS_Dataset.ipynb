{
  "nbformat": 4,
  "nbformat_minor": 0,
  "metadata": {
    "colab": {
      "name": "RandomForestClassifier-IRIS-Dataset.ipynb",
      "provenance": [],
      "collapsed_sections": [],
      "authorship_tag": "ABX9TyNmfNT0kXsoBlEGX59bhIfl",
      "include_colab_link": true
    },
    "kernelspec": {
      "name": "python3",
      "display_name": "Python 3"
    },
    "language_info": {
      "name": "python"
    }
  },
  "cells": [
    {
      "cell_type": "markdown",
      "metadata": {
        "id": "view-in-github",
        "colab_type": "text"
      },
      "source": [
        "<a href=\"https://colab.research.google.com/github/anandababugudipudi/RandomForestClassifier-IRIS-Dataset/blob/main/RandomForestClassifier_IRIS_Dataset.ipynb\" target=\"_parent\"><img src=\"https://colab.research.google.com/assets/colab-badge.svg\" alt=\"Open In Colab\"/></a>"
      ]
    },
    {
      "cell_type": "markdown",
      "metadata": {
        "id": "cGGf4Mlc9VPf"
      },
      "source": [
        "### **Import necessary packages**"
      ]
    },
    {
      "cell_type": "code",
      "metadata": {
        "id": "Dx6n9ye28Hcb"
      },
      "source": [
        "import numpy as np\n",
        "import pandas as pd\n",
        "from sklearn.ensemble import RandomForestClassifier\n",
        "from sklearn.metrics import confusion_matrix, accuracy_score\n",
        "from sklearn.datasets import load_iris\n",
        "from sklearn.model_selection import train_test_split"
      ],
      "execution_count": null,
      "outputs": []
    },
    {
      "cell_type": "markdown",
      "metadata": {
        "id": "TBzYTenb9aTA"
      },
      "source": [
        "###**Load the IRIS dataset**"
      ]
    },
    {
      "cell_type": "code",
      "metadata": {
        "id": "X8Tnozlh9eHe"
      },
      "source": [
        "iris_data = load_iris()"
      ],
      "execution_count": null,
      "outputs": []
    },
    {
      "cell_type": "markdown",
      "metadata": {
        "id": "Q4-PAfGz9hjP"
      },
      "source": [
        "###**Seperate Features and Labels**"
      ]
    },
    {
      "cell_type": "code",
      "metadata": {
        "colab": {
          "base_uri": "https://localhost:8080/"
        },
        "id": "MRNMjkGm9mBQ",
        "outputId": "2a026718-55b1-4404-ad0a-ca37fed766d5"
      },
      "source": [
        "X = iris_data.data\n",
        "y = iris_data.target\n",
        "\n",
        "print(X.shape)\n",
        "print(y.shape)"
      ],
      "execution_count": null,
      "outputs": [
        {
          "output_type": "stream",
          "text": [
            "(150, 4)\n",
            "(150,)\n"
          ],
          "name": "stdout"
        }
      ]
    },
    {
      "cell_type": "markdown",
      "metadata": {
        "id": "0g3zfAeu916O"
      },
      "source": [
        "###**Split the data into Train and Test Data**"
      ]
    },
    {
      "cell_type": "code",
      "metadata": {
        "id": "3tSix2Bx97b5"
      },
      "source": [
        "X_train, X_test, y_train, y_test = train_test_split(X, y, test_size = 0.2, random_state = 122)"
      ],
      "execution_count": null,
      "outputs": []
    },
    {
      "cell_type": "markdown",
      "metadata": {
        "id": "rpjvNJiD9_ep"
      },
      "source": [
        "###**Build the RFC model**"
      ]
    },
    {
      "cell_type": "code",
      "metadata": {
        "id": "yOaoS8N1-Cop"
      },
      "source": [
        "model = RandomForestClassifier(n_estimators = 1000, max_features = 'sqrt')"
      ],
      "execution_count": null,
      "outputs": []
    },
    {
      "cell_type": "markdown",
      "metadata": {
        "id": "Xovq6-bE-LA5"
      },
      "source": [
        "###**Train the model on Training data**"
      ]
    },
    {
      "cell_type": "code",
      "metadata": {
        "id": "Jtohkl6o-Pe6"
      },
      "source": [
        "fitted_model = model.fit(X_train, y_train)"
      ],
      "execution_count": null,
      "outputs": []
    },
    {
      "cell_type": "markdown",
      "metadata": {
        "id": "9JUbMusQ-bGo"
      },
      "source": [
        "###**Making predictions on Trained model**"
      ]
    },
    {
      "cell_type": "code",
      "metadata": {
        "id": "Hc07Ez7J-gKq"
      },
      "source": [
        "predictions = fitted_model.predict(X_test)"
      ],
      "execution_count": null,
      "outputs": []
    },
    {
      "cell_type": "markdown",
      "metadata": {
        "id": "Yw1c56NZ-sCZ"
      },
      "source": [
        "###**Measuring the performance of the model**"
      ]
    },
    {
      "cell_type": "code",
      "metadata": {
        "colab": {
          "base_uri": "https://localhost:8080/"
        },
        "id": "PMDrSn5N-9rZ",
        "outputId": "afc52517-9d1e-42fc-e87b-538ed423dc4c"
      },
      "source": [
        "print(confusion_matrix(y_test, predictions))\n",
        "print(accuracy_score(y_test, predictions))"
      ],
      "execution_count": null,
      "outputs": [
        {
          "output_type": "stream",
          "text": [
            "[[ 8  0  0]\n",
            " [ 0 10  1]\n",
            " [ 0  0 11]]\n",
            "0.9666666666666667\n"
          ],
          "name": "stdout"
        }
      ]
    }
  ]
}